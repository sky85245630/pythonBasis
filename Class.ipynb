{
 "cells": [
  {
   "cell_type": "code",
   "execution_count": 8,
   "metadata": {},
   "outputs": [
    {
     "name": "stdout",
     "output_type": "stream",
     "text": [
      "1\n",
      "HI i'm asd 1 years old\n",
      "HI aaaaaa\n"
     ]
    }
   ],
   "source": [
    "# 使用class去宣告類別名稱最好使用大寫\n",
    "class Person:\n",
    "    #初始化函數（第一個一定要寫self他相同於js的this不過js不用宣告）\n",
    "    def __init__(self,name,age):\n",
    "        #指定\n",
    "        self.name = name\n",
    "        self.age = age\n",
    "    def hi(self):\n",
    "        print(\"HI i'm %s %s years old\" % (self.name,self.age))\n",
    "    #靜態類別\n",
    "    def response(e04):\n",
    "        print('HI %s' % e04)\n",
    "per = Person('asd','1')\n",
    "print(per.age )\n",
    "per.hi()\n",
    "\n",
    "Person.response('aaaaaa')"
   ]
  },
  {
   "cell_type": "code",
   "execution_count": 12,
   "metadata": {},
   "outputs": [
    {
     "name": "stdout",
     "output_type": "stream",
     "text": [
      "我已經把父類別複寫啦\n",
      "HI i'm louie 27 years old. SID is s1810422016\n"
     ]
    }
   ],
   "source": [
    "# 子類別繼承父類別\n",
    "class Student(Person):\n",
    "    #先初始化自己的函數\n",
    "    def __init__(self,name,age,sid):\n",
    "        #使用super去繼承父類別的東西\n",
    "        super().__init__(name,age)\n",
    "        self.sid = sid\n",
    "    def shoeSid(self):\n",
    "        print(\"HI i'm %s %s years old. SID is %s\" % (self.name,self.age,self.sid))\n",
    "    #父類別複寫\n",
    "    def hi(self):\n",
    "        print(\"我已經把父類別複寫啦\")\n",
    "        \n",
    "stu = Student('louie','27','s1810422016')\n",
    "stu.hi()\n",
    "stu.shoeSid()"
   ]
  },
  {
   "cell_type": "code",
   "execution_count": null,
   "metadata": {},
   "outputs": [],
   "source": []
  }
 ],
 "metadata": {
  "kernelspec": {
   "display_name": "Python 3",
   "language": "python",
   "name": "python3"
  },
  "language_info": {
   "codemirror_mode": {
    "name": "ipython",
    "version": 3
   },
   "file_extension": ".py",
   "mimetype": "text/x-python",
   "name": "python",
   "nbconvert_exporter": "python",
   "pygments_lexer": "ipython3",
   "version": "3.7.6"
  }
 },
 "nbformat": 4,
 "nbformat_minor": 4
}
