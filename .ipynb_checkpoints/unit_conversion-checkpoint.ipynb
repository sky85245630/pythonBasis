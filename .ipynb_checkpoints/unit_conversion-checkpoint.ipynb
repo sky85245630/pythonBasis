{
 "cells": [
  {
   "cell_type": "code",
   "execution_count": 4,
   "metadata": {},
   "outputs": [
    {
     "name": "stdout",
     "output_type": "stream",
     "text": [
      "請輸入長度：1\n",
      "請輸入單位：in\n",
      "1.0 in = 2.54 cm\n"
     ]
    }
   ],
   "source": [
    "# %f代表loat\n",
    "value = float(input('請輸入長度：'))\n",
    "unit = input('請輸入單位：')\n",
    "\n",
    "if unit == \"in\":\n",
    "    print('%f in = %f cm' % (value , value*2.54))\n",
    "elif unit == \"cm\":\n",
    "    print('%f in = %f cm' % (value , value/2.54))\n",
    "else:\n",
    "    print('請輸入cm或in')"
   ]
  },
  {
   "cell_type": "code",
   "execution_count": null,
   "metadata": {},
   "outputs": [],
   "source": []
  }
 ],
 "metadata": {
  "kernelspec": {
   "display_name": "Python 3",
   "language": "python",
   "name": "python3"
  },
  "language_info": {
   "codemirror_mode": {
    "name": "ipython",
    "version": 3
   },
   "file_extension": ".py",
   "mimetype": "text/x-python",
   "name": "python",
   "nbconvert_exporter": "python",
   "pygments_lexer": "ipython3",
   "version": "3.7.6"
  }
 },
 "nbformat": 4,
 "nbformat_minor": 4
}
